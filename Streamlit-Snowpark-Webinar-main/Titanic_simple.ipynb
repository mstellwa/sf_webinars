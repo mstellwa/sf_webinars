{
 "cells": [
  {
   "cell_type": "markdown",
   "id": "f5507b95-b310-404a-b5ab-1993dd672405",
   "metadata": {},
   "source": [
    "# Snowpark For Python -- Titanic Survival Prediction\n",
    "\n",
    "### In this session, we will cover:\n",
    "\n",
    "* Snowpark for Python Installation\n",
    "* Creating Session object and connecting to Snowflake\n",
    "* Loading data from Snowflake table into Snowpark DataFrame\n",
    "* Creating Stored Procedure to deploy model training code on Snowflake\n",
    "* Creating User-Defined Function (UDF) for inference\n",
    "\n",
    "### Import libraries"
   ]
  },
  {
   "cell_type": "code",
   "execution_count": 3,
   "id": "d784ea79-2ec9-457a-ad36-f36177656593",
   "metadata": {},
   "outputs": [],
   "source": [
    "from snowflake.snowpark.session import Session\n",
    "from snowflake.snowpark import functions as F\n",
    "from snowflake.snowpark import types as T\n",
    "from snowflake.snowpark import Column\n",
    "from snowflake.snowpark import Window"
   ]
  },
  {
   "cell_type": "code",
   "execution_count": 4,
   "id": "eae346f3-e55d-4a9c-a3b4-28d67826ff6b",
   "metadata": {},
   "outputs": [],
   "source": [
    "from sklearn.compose import ColumnTransformer\n",
    "from sklearn.pipeline import Pipeline, make_pipeline\n",
    "from sklearn.impute import SimpleImputer, KNNImputer\n",
    "from sklearn.preprocessing import RobustScaler, OneHotEncoder\n",
    "from sklearn.ensemble import RandomForestClassifier"
   ]
  },
  {
   "cell_type": "code",
   "execution_count": 5,
   "id": "cc102ff3-00f7-4048-89ff-03526c7ce883",
   "metadata": {},
   "outputs": [
    {
     "data": {
      "text/html": [
       "<style>pre { white-space: pre !important; }</style>"
      ],
      "text/plain": [
       "<IPython.core.display.HTML object>"
      ]
     },
     "metadata": {},
     "output_type": "display_data"
    }
   ],
   "source": [
    "import json\n",
    "\n",
    "import pandas as pd\n",
    "\n",
    "from IPython.core.display import HTML\n",
    "display(HTML(\"<style>pre { white-space: pre !important; }</style>\"))"
   ]
  },
  {
   "cell_type": "markdown",
   "id": "bcd2e279-fc81-4ae8-bb1b-9c66f461cf0e",
   "metadata": {},
   "source": [
    "### Connect to Snowflake"
   ]
  },
  {
   "cell_type": "code",
   "execution_count": 6,
   "id": "d5d19be7-82da-4eb9-ae5f-13766ce5a17b",
   "metadata": {},
   "outputs": [],
   "source": [
    "with open('../creds.json') as f:\n",
    "    connection_parameters = json.load(f)"
   ]
  },
  {
   "cell_type": "code",
   "execution_count": 7,
   "id": "dd2e4780-ccda-41e0-8b6f-749c098ad91f",
   "metadata": {},
   "outputs": [],
   "source": [
    "session = Session.builder.configs(connection_parameters).create()"
   ]
  },
  {
   "cell_type": "code",
   "execution_count": 8,
   "id": "f923dc16-fbb4-4a42-8669-d7db6d626a90",
   "metadata": {},
   "outputs": [
    {
     "name": "stdout",
     "output_type": "stream",
     "text": [
      "Current schema: \"DEMO_DB\".\"PUBLIC\", current role: \"SYSADMIN\", current warehouse:  \"COMPUTE_WH\"\n"
     ]
    }
   ],
   "source": [
    "print(f\"Current schema: {session.get_fully_qualified_current_schema()}, current role: {session.get_current_role()}, current warehouse:  {session.get_current_warehouse()}\")\n"
   ]
  },
  {
   "cell_type": "markdown",
   "id": "20b86767-4a17-49fd-af67-ba7041db50d6",
   "metadata": {},
   "source": [
    "### Create a DataFrame based on the Titanic table"
   ]
  },
  {
   "cell_type": "code",
   "execution_count": 9,
   "id": "ec409099-643c-4a6f-8095-f6d48027ecf8",
   "metadata": {},
   "outputs": [],
   "source": [
    "titanic_df = session.table(\"titanic\")"
   ]
  },
  {
   "cell_type": "code",
   "execution_count": 10,
   "id": "0c1ec910-1c53-4c38-94b8-3e8bc8f8ae7b",
   "metadata": {
    "tags": []
   },
   "outputs": [
    {
     "name": "stdout",
     "output_type": "stream",
     "text": [
      "Number of rows: 1309\n",
      "------------------------------------------------------------------------------------------------------------------------------------------------------------------------------------------------------------------\n",
      "|\"PCLASS\"  |\"SURVIVED\"  |\"NAME\"                                           |\"SEX\"   |\"AGE\"   |\"SIBSP\"  |\"PARCH\"  |\"TICKET\"  |\"FARE\"    |\"CABIN\"  |\"EMBARKED\"  |\"BOAT\"  |\"BODY\"  |\"HOME_DEST\"                      |\n",
      "------------------------------------------------------------------------------------------------------------------------------------------------------------------------------------------------------------------\n",
      "|1.0       |1           |Allen, Miss. Elisabeth Walton                    |female  |29.0    |0.0      |0.0      |24160     |211.3375  |B5       |S           |2       |NULL    |St Louis, MO                     |\n",
      "|1.0       |1           |Allison, Master. Hudson Trevor                   |male    |0.9167  |1.0      |2.0      |113781    |151.55    |C22 C26  |S           |11      |NULL    |Montreal, PQ / Chesterville, ON  |\n",
      "|1.0       |0           |Allison, Miss. Helen Loraine                     |female  |2.0     |1.0      |2.0      |113781    |151.55    |C22 C26  |S           |NULL    |NULL    |Montreal, PQ / Chesterville, ON  |\n",
      "|1.0       |0           |Allison, Mr. Hudson Joshua Creighton             |male    |30.0    |1.0      |2.0      |113781    |151.55    |C22 C26  |S           |NULL    |135.0   |Montreal, PQ / Chesterville, ON  |\n",
      "|1.0       |0           |Allison, Mrs. Hudson J C (Bessie Waldo Daniels)  |female  |25.0    |1.0      |2.0      |113781    |151.55    |C22 C26  |S           |NULL    |NULL    |Montreal, PQ / Chesterville, ON  |\n",
      "|1.0       |1           |Anderson, Mr. Harry                              |male    |48.0    |0.0      |0.0      |19952     |26.55     |E12      |S           |3       |NULL    |New York, NY                     |\n",
      "|1.0       |1           |Andrews, Miss. Kornelia Theodosia                |female  |63.0    |1.0      |0.0      |13502     |77.9583   |D7       |S           |10      |NULL    |Hudson, NY                       |\n",
      "|1.0       |0           |Andrews, Mr. Thomas Jr                           |male    |39.0    |0.0      |0.0      |112050    |0.0       |A36      |S           |NULL    |NULL    |Belfast, NI                      |\n",
      "|1.0       |1           |Appleton, Mrs. Edward Dale (Charlotte Lamson)    |female  |53.0    |2.0      |0.0      |11769     |51.4792   |C101     |S           |D       |NULL    |Bayside, Queens, NY              |\n",
      "|1.0       |0           |Artagaveytia, Mr. Ramon                          |male    |71.0    |0.0      |0.0      |PC 17609  |49.5042   |NULL     |C           |NULL    |22.0    |Montevideo, Uruguay              |\n",
      "------------------------------------------------------------------------------------------------------------------------------------------------------------------------------------------------------------------\n",
      "\n"
     ]
    }
   ],
   "source": [
    "print(f\"Number of rows: {titanic_df.count()}\")\n",
    "titanic_df.show()"
   ]
  },
  {
   "cell_type": "code",
   "execution_count": 11,
   "id": "97f14993-abc4-4612-ae5b-f2d6588e1e54",
   "metadata": {},
   "outputs": [
    {
     "data": {
      "text/plain": [
       "{'queries': ['SELECT  *  FROM (titanic)'], 'post_actions': []}"
      ]
     },
     "execution_count": 11,
     "metadata": {},
     "output_type": "execute_result"
    }
   ],
   "source": [
    "titanic_df.queries"
   ]
  },
  {
   "cell_type": "markdown",
   "id": "1f0f2130-a22e-48a4-85a3-70c6a6c73ee8",
   "metadata": {},
   "source": [
    "### Basic analysis\n",
    "\n",
    "\n",
    "Count by Survived"
   ]
  },
  {
   "cell_type": "code",
   "execution_count": 12,
   "id": "02397f59-693c-4da2-97e1-5b0b04de12aa",
   "metadata": {},
   "outputs": [
    {
     "name": "stdout",
     "output_type": "stream",
     "text": [
      "------------------------\n",
      "|\"SURVIVED\"  |\"COUNT\"  |\n",
      "------------------------\n",
      "|1           |500      |\n",
      "|0           |809      |\n",
      "------------------------\n",
      "\n"
     ]
    }
   ],
   "source": [
    "titanic_df.group_by(\"SURVIVED\").count().show()"
   ]
  },
  {
   "cell_type": "markdown",
   "id": "69ed508d-0051-4fa9-8ce2-6ddf9c915a44",
   "metadata": {},
   "source": [
    "Add percentages"
   ]
  },
  {
   "cell_type": "code",
   "execution_count": 13,
   "id": "2341c459-f72e-401c-bb03-715378d41212",
   "metadata": {},
   "outputs": [
    {
     "name": "stdout",
     "output_type": "stream",
     "text": [
      "--------------------------------------------\n",
      "|\"SURVIVED\"  |\"PASSENGERS\"  |\"PERCENTAGE\"  |\n",
      "--------------------------------------------\n",
      "|1           |500           |38.197100     |\n",
      "|0           |809           |61.802900     |\n",
      "--------------------------------------------\n",
      "\n"
     ]
    }
   ],
   "source": [
    "titanic_df.group_by(F.col(\"SURVIVED\")).agg(F.count('*').as_(\"PASSENGERS\"))\\\n",
    "            .select(F.col(\"SURVIVED\"), F.col(\"PASSENGERS\"), (F.call_builtin(\"RATIO_TO_REPORT\", F.col(\"PASSENGERS\")).over() * 100).as_(\"percentage\") )\\\n",
    "            .show()"
   ]
  },
  {
   "cell_type": "markdown",
   "id": "d50608fd-9fbc-452c-87ae-e899a4fef1e5",
   "metadata": {},
   "source": [
    "Describe all numeric and categorical feature"
   ]
  },
  {
   "cell_type": "code",
   "execution_count": 14,
   "id": "6539bf77-1a40-4e90-bb2c-f7acfb0b3b63",
   "metadata": {},
   "outputs": [
    {
     "name": "stdout",
     "output_type": "stream",
     "text": [
      "---------------------------------------------------------------------------------------------------------------------------------------------------------------------------------------------------------------------------------------------------------------\n",
      "|\"SUMMARY\"  |\"PCLASS\"            |\"SURVIVED\"  |\"NAME\"                       |\"SEX\"   |\"AGE\"               |\"SIBSP\"             |\"PARCH\"             |\"TICKET\"   |\"FARE\"             |\"CABIN\"  |\"EMBARKED\"  |\"BOAT\"  |\"BODY\"             |\"HOME_DEST\"          |\n",
      "---------------------------------------------------------------------------------------------------------------------------------------------------------------------------------------------------------------------------------------------------------------\n",
      "|count      |1309.0              |1309        |1309                         |1309    |1046.0              |1309.0              |1309.0              |1309       |1308.0             |295      |1307        |486     |121.0              |745                  |\n",
      "|mean       |2.294881588999236   |NULL        |NULL                         |NULL    |29.8811345124283    |0.4988540870893812  |0.3850267379679144  |NULL       |33.29547928134557  |NULL     |NULL        |NULL    |160.8099173553719  |NULL                 |\n",
      "|stddev     |0.8378360189701274  |NULL        |NULL                         |NULL    |14.413499699923596  |1.041658390596102   |0.8655602753495147  |NULL       |51.75866823917411  |NULL     |NULL        |NULL    |97.6969219960031   |NULL                 |\n",
      "|min        |1.0                 |0           |Abbing, Mr. Anthony          |female  |0.1667              |0.0                 |0.0                 |110152     |0.0                |A10      |C           |1       |1.0                |?Havana, Cuba        |\n",
      "|max        |3.0                 |1           |van Melkebeke, Mr. Philemon  |male    |80.0                |8.0                 |9.0                 |WE/P 5735  |512.3292           |T        |S           |D       |328.0              |Zurich, Switzerland  |\n",
      "---------------------------------------------------------------------------------------------------------------------------------------------------------------------------------------------------------------------------------------------------------------\n",
      "\n"
     ]
    }
   ],
   "source": [
    "titanic_df.describe().show()"
   ]
  },
  {
   "cell_type": "markdown",
   "id": "d7d4b354-4520-47e6-9b33-2413a0799da9",
   "metadata": {},
   "source": [
    "Based on above statistics can drop some of the columns"
   ]
  },
  {
   "cell_type": "code",
   "execution_count": 15,
   "id": "6885c2b6-b477-4a8f-b3d4-a77e9890375f",
   "metadata": {},
   "outputs": [
    {
     "name": "stdout",
     "output_type": "stream",
     "text": [
      "---------------------------------------------------------------------------------------\n",
      "|\"PCLASS\"  |\"SURVIVED\"  |\"SEX\"   |\"AGE\"   |\"SIBSP\"  |\"PARCH\"  |\"FARE\"    |\"EMBARKED\"  |\n",
      "---------------------------------------------------------------------------------------\n",
      "|1.0       |1           |female  |29.0    |0.0      |0.0      |211.3375  |S           |\n",
      "|1.0       |1           |male    |0.9167  |1.0      |2.0      |151.55    |S           |\n",
      "|1.0       |0           |female  |2.0     |1.0      |2.0      |151.55    |S           |\n",
      "|1.0       |0           |male    |30.0    |1.0      |2.0      |151.55    |S           |\n",
      "|1.0       |0           |female  |25.0    |1.0      |2.0      |151.55    |S           |\n",
      "|1.0       |1           |male    |48.0    |0.0      |0.0      |26.55     |S           |\n",
      "|1.0       |1           |female  |63.0    |1.0      |0.0      |77.9583   |S           |\n",
      "|1.0       |0           |male    |39.0    |0.0      |0.0      |0.0       |S           |\n",
      "|1.0       |1           |female  |53.0    |2.0      |0.0      |51.4792   |S           |\n",
      "|1.0       |0           |male    |71.0    |0.0      |0.0      |49.5042   |C           |\n",
      "---------------------------------------------------------------------------------------\n",
      "\n"
     ]
    }
   ],
   "source": [
    "titanic_df = titanic_df.drop([\"NAME\", \"TICKET\", \"CABIN\", \"BOAT\", \"BODY\", \"HOME_DEST\"])\n",
    "titanic_df.show()"
   ]
  },
  {
   "cell_type": "markdown",
   "id": "f3a8a545-7a6a-4df7-86c6-f44438832bc8",
   "metadata": {},
   "source": [
    "Let's have a look at the datatypes for the remaining colums"
   ]
  },
  {
   "cell_type": "code",
   "execution_count": 16,
   "id": "0511ac33-ee68-49f0-bd3c-9afcca8b1920",
   "metadata": {},
   "outputs": [
    {
     "name": "stdout",
     "output_type": "stream",
     "text": [
      "PCLASS, Nullable: True, DoubleType()\n",
      "SURVIVED, Nullable: True, StringType()\n",
      "SEX, Nullable: True, StringType()\n",
      "AGE, Nullable: True, DoubleType()\n",
      "SIBSP, Nullable: True, DoubleType()\n",
      "PARCH, Nullable: True, DoubleType()\n",
      "FARE, Nullable: True, DoubleType()\n",
      "EMBARKED, Nullable: True, StringType()\n"
     ]
    }
   ],
   "source": [
    "for col in titanic_df.schema.fields:\n",
    "    print(f\"{col.name}, Nullable: {col.nullable}, {col.datatype}\")"
   ]
  },
  {
   "cell_type": "markdown",
   "id": "7a2d41b7-ac0d-4e2e-b5aa-164ee217266f",
   "metadata": {},
   "source": [
    "PCLASS is stored as a number but is a category variable so we can change it character instead"
   ]
  },
  {
   "cell_type": "code",
   "execution_count": 17,
   "id": "178313e7-c6a0-4bf1-b1ea-2894e3797baa",
   "metadata": {},
   "outputs": [],
   "source": [
    "titanic_df = titanic_df.with_column(\"PCLASS\", F.to_varchar(\"PCLASS\"))"
   ]
  },
  {
   "cell_type": "code",
   "execution_count": 18,
   "id": "be18a22d-d9ed-49fe-853b-9cd98f1de3f4",
   "metadata": {},
   "outputs": [
    {
     "name": "stdout",
     "output_type": "stream",
     "text": [
      "------------------------\n",
      "|\"EMBARKED\"  |\"COUNT\"  |\n",
      "------------------------\n",
      "|S           |914      |\n",
      "|C           |270      |\n",
      "|NULL        |2        |\n",
      "|Q           |123      |\n",
      "------------------------\n",
      "\n"
     ]
    }
   ],
   "source": [
    "titanic_df.group_by(\"EMBARKED\").count().show()"
   ]
  },
  {
   "cell_type": "code",
   "execution_count": 19,
   "id": "c9d29a35-2417-49e4-be70-7b19c590dcd7",
   "metadata": {},
   "outputs": [
    {
     "name": "stdout",
     "output_type": "stream",
     "text": [
      "------------------------\n",
      "|\"EMBARKED\"  |\"COUNT\"  |\n",
      "------------------------\n",
      "|S           |916      |\n",
      "|C           |270      |\n",
      "|Q           |123      |\n",
      "------------------------\n",
      "\n"
     ]
    }
   ],
   "source": [
    "titanic_df = titanic_df.fillna({\"EMBARKED\": \"S\"})\n",
    "titanic_df.group_by(\"EMBARKED\").count().show()"
   ]
  },
  {
   "cell_type": "markdown",
   "id": "14967e04-8cab-493d-8bad-ce74302c18fe",
   "metadata": {},
   "source": [
    "Next let’s look at the relationship between each of the features and our target variable. We can reuse the crosstab function craeted earlier for that"
   ]
  },
  {
   "cell_type": "code",
   "execution_count": 20,
   "id": "420dce82-4e3b-4e50-903d-9b91e1c95363",
   "metadata": {},
   "outputs": [
    {
     "name": "stdout",
     "output_type": "stream",
     "text": [
      "----------------------------------\n",
      "|\"SEX\"   |\"'0'\"      |\"'1'\"      |\n",
      "----------------------------------\n",
      "|female  |27.253200  |72.746800  |\n",
      "|male    |80.901500  |19.098500  |\n",
      "----------------------------------\n",
      "\n"
     ]
    },
    {
     "data": {
      "text/plain": [
       "None"
      ]
     },
     "metadata": {},
     "output_type": "display_data"
    },
    {
     "name": "stdout",
     "output_type": "stream",
     "text": [
      "--------------------------------------\n",
      "|\"EMBARKED\"  |\"'0'\"      |\"'1'\"      |\n",
      "--------------------------------------\n",
      "|S           |66.593900  |33.406100  |\n",
      "|C           |44.444400  |55.555600  |\n",
      "|Q           |64.227600  |35.772400  |\n",
      "--------------------------------------\n",
      "\n"
     ]
    },
    {
     "data": {
      "text/plain": [
       "None"
      ]
     },
     "metadata": {},
     "output_type": "display_data"
    },
    {
     "name": "stdout",
     "output_type": "stream",
     "text": [
      "------------------------------------\n",
      "|\"PCLASS\"  |\"'0'\"      |\"'1'\"      |\n",
      "------------------------------------\n",
      "|1         |38.080500  |61.919500  |\n",
      "|2         |57.039700  |42.960300  |\n",
      "|3         |74.471100  |25.528900  |\n",
      "------------------------------------\n",
      "\n"
     ]
    },
    {
     "data": {
      "text/plain": [
       "None"
      ]
     },
     "metadata": {},
     "output_type": "display_data"
    }
   ],
   "source": [
    "cols = [c.name for c in titanic_df.schema.fields if type(c.datatype) == T.StringType]\n",
    "for col in cols:\n",
    "    if col != \"SURVIVED\":\n",
    "        window = Window.partition_by(col)\n",
    "        display(titanic_df.group_by(col, \"SURVIVED\").count().select(col, \"SURVIVED\", (F.call_builtin(\"RATIO_TO_REPORT\", F.col(\"COUNT\")).over(window) * 100).as_(\"percentage\") ).pivot(\"SURVIVED\", ['0', '1']).agg(F.sum(\"percentage\")).show(20))\n"
   ]
  },
  {
   "cell_type": "markdown",
   "id": "fd085404-14a3-4b65-9421-8246fe14ffad",
   "metadata": {},
   "source": [
    "### Model training\n",
    "\n",
    "We are going to create a function for training a model that we will run in Snowflake as a Stored Procedure.\n",
    "\n",
    "Start with selecting the columns we are going to use and pull the data back as a Pandas dataframe so we can test the function locally, if we had have lota of data we would have taken a sample."
   ]
  },
  {
   "cell_type": "code",
   "execution_count": 21,
   "id": "ad1531e4-103f-4a18-bf14-a02e5f09d54e",
   "metadata": {},
   "outputs": [],
   "source": [
    "df = titanic_df.sample(frac=0.10).to_pandas()\n",
    "\n",
    "X = df[[\"EMBARKED\", \"SEX\", \"PCLASS\", \"AGE\", \"FARE\"]]\n",
    "y = df[\"SURVIVED\"]"
   ]
  },
  {
   "cell_type": "markdown",
   "id": "d791a8a7-89b0-4854-81a4-2f61ce718a86",
   "metadata": {},
   "source": [
    "Define the training function where we will also do some data preprocessing, by using Pipeline we can then reuse the processing when using the model for prediictions."
   ]
  },
  {
   "cell_type": "code",
   "execution_count": 24,
   "id": "10782a7e-9ee7-4000-9bb6-dd4c145bc04e",
   "metadata": {},
   "outputs": [],
   "source": [
    "def train(X, y):\n",
    "    cat_cols = [\"EMBARKED\", \"SEX\", \"PCLASS\"]\n",
    "    cat_transformer = Pipeline(steps=[\n",
    "        ('imputer', SimpleImputer(strategy='most_frequent')),\n",
    "        ('onehot', OneHotEncoder(handle_unknown='ignore', sparse=False))\n",
    "    ])\n",
    "    \n",
    "    num_cols = [\"AGE\", \"FARE\"]\n",
    "    num_transformer = Pipeline(steps=[\n",
    "        ('imputer', KNNImputer(n_neighbors=5)),\n",
    "        ('scaler', RobustScaler())\n",
    "    ])\n",
    "    preprocessor = ColumnTransformer(\n",
    "      [\n",
    "            ('num', num_transformer, num_cols),\n",
    "            ('cat', cat_transformer, cat_cols)\n",
    "        ],  verbose_feature_names_out=False,\n",
    "    )\n",
    "    pipe = Pipeline(steps=[('preprocessor', preprocessor),\n",
    "                           ('classifier', RandomForestClassifier())])\n",
    "    model = pipe.fit(X, y)\n",
    "    return model\n"
   ]
  },
  {
   "cell_type": "markdown",
   "id": "7d35096f-7428-4f9a-95f7-dcbe465df9b8",
   "metadata": {},
   "source": [
    "Test the function locally."
   ]
  },
  {
   "cell_type": "code",
   "execution_count": 25,
   "id": "e21a68dd-3440-42c4-a771-9f77ea3c27d2",
   "metadata": {},
   "outputs": [],
   "source": [
    "model = train(X, y)"
   ]
  },
  {
   "cell_type": "code",
   "execution_count": 31,
   "id": "270f5458-d7fb-401c-91ba-f88a87383d75",
   "metadata": {},
   "outputs": [],
   "source": [
    "def create_udf(model, session):\n",
    "    @F.udf(name = 'survived', is_permanent = True, stage_location = 'udf_stage' , packages = ['pandas', 'scikit-learn'], replace = True, session = session)\n",
    "    def survived(ds: T.PandasSeries[dict]) -> T.PandasSeries[float]:\n",
    "        df = pd.io.json.json_normalize(ds)\n",
    "        prediction = model.predict(df)\n",
    "        return prediction\n"
   ]
  },
  {
   "cell_type": "code",
   "execution_count": 32,
   "id": "166aafdd-2d53-4f66-8374-9a7fcfc2fd4a",
   "metadata": {},
   "outputs": [],
   "source": [
    "def train_titanic(session: Session) -> str:\n",
    "    df = session.table(\"titanic\").select(\"EMBARKED\", \"SEX\", \"PCLASS\", \"AGE\", \"FARE\", \"SURVIVED\").to_pandas()\n",
    "    X = df[[\"EMBARKED\", \"SEX\", \"PCLASS\", \"AGE\", \"FARE\"]]\n",
    "    y = df[\"SURVIVED\"]\n",
    "    model = train(X, y)\n",
    "    \n",
    "    create_udf(model, session)\n",
    "    return 'SUCCESS'\n"
   ]
  },
  {
   "cell_type": "code",
   "execution_count": 33,
   "id": "58bd4460-c195-475f-b855-b3867df1beca",
   "metadata": {},
   "outputs": [],
   "source": [
    "session.clear_imports()\n",
    "session.clear_packages()\n",
    "session.add_packages('snowflake-snowpark-python','pandas', 'scikit-learn', 'cloudpickle==2.0.0')\n",
    "train_titanic_sp = F.sproc(func=train_titanic,name=\"train_titanic\", is_permanent = True, replace= True, stage_location = 'udf_stage', session=session)"
   ]
  },
  {
   "cell_type": "markdown",
   "id": "e1918c26-9d27-450e-8063-402c3eb6f283",
   "metadata": {},
   "source": [
    "Run the training Stored Procedure in Snowflake"
   ]
  },
  {
   "cell_type": "code",
   "execution_count": 34,
   "id": "e6208ec6-dddd-4e6c-ba5e-71ac6f602efe",
   "metadata": {},
   "outputs": [
    {
     "data": {
      "text/plain": [
       "'SUCCESS'"
      ]
     },
     "execution_count": 34,
     "metadata": {},
     "output_type": "execute_result"
    }
   ],
   "source": [
    "train_titanic_sp()"
   ]
  },
  {
   "cell_type": "code",
   "execution_count": 35,
   "id": "22a477bd-3a2a-42d6-863f-597f7bc383e0",
   "metadata": {},
   "outputs": [
    {
     "name": "stdout",
     "output_type": "stream",
     "text": [
      "--------------------------\n",
      "|\"PREDICTED\"  |\"ACTUAL\"  |\n",
      "--------------------------\n",
      "|1.0          |1         |\n",
      "|1.0          |1         |\n",
      "|0.0          |0         |\n",
      "|0.0          |0         |\n",
      "|0.0          |0         |\n",
      "|0.0          |1         |\n",
      "|1.0          |1         |\n",
      "|0.0          |0         |\n",
      "|1.0          |1         |\n",
      "|0.0          |0         |\n",
      "--------------------------\n",
      "\n"
     ]
    }
   ],
   "source": [
    "titanic_df.select(F.call_udf(\"survived\", F.object_construct('*')).as_(\"predicted\"), F.col(\"SURVIVED\").as_(\"actual\")).show()"
   ]
  },
  {
   "cell_type": "code",
   "execution_count": null,
   "id": "752053fa-5174-4cb6-937f-bb9e9a344098",
   "metadata": {},
   "outputs": [],
   "source": [
    "session.close()"
   ]
  },
  {
   "cell_type": "code",
   "execution_count": null,
   "id": "43f42f96-c487-4928-9d3f-4067740fd7d7",
   "metadata": {},
   "outputs": [],
   "source": []
  }
 ],
 "metadata": {
  "kernelspec": {
   "display_name": "Python 3 (ipykernel)",
   "language": "python",
   "name": "python3"
  },
  "language_info": {
   "codemirror_mode": {
    "name": "ipython",
    "version": 3
   },
   "file_extension": ".py",
   "mimetype": "text/x-python",
   "name": "python",
   "nbconvert_exporter": "python",
   "pygments_lexer": "ipython3",
   "version": "3.8.11"
  }
 },
 "nbformat": 4,
 "nbformat_minor": 5
}
